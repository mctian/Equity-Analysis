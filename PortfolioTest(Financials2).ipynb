{
 "cells": [
  {
   "cell_type": "code",
   "execution_count": 1,
   "metadata": {},
   "outputs": [],
   "source": [
    "import datetime\n",
    "import Model\n",
    "import numpy as np\n",
    "import pandas as pd\n",
    "import math\n",
    "from multiprocessing import Pool\n",
    "import os\n",
    "import warnings\n",
    "import time\n",
    "import matplotlib.pyplot as plt\n",
    "from importlib import reload\n",
    "\n",
    "reload(Model)\n",
    "warnings.simplefilter('ignore', FutureWarning)\n",
    "\n",
    "# positive numbers, start should be lower than end\n",
    "# a rebalance index represents the month before the rebalancing takes place\n",
    "# so returns are calculated starting at rebalanceIndex + 1\n",
    "def rebalanceIndexes(startIndex, endIndex):\n",
    "    indexes = list(range(startIndex, endIndex, 3))\n",
    "    return (indexes)\n",
    "\n",
    "\n",
    "# get ln returns for an equally balanced portfolio of stocks\n",
    "def getReturns(portfolio, index, length):\n",
    "\treturns = 0\n",
    "\tprint(portfolio)\n",
    "\tprint(-1 * index + 1)\n",
    "\tprint(-1 * index + length)\n",
    "\tnancount = 0\n",
    "\tfor stock in portfolio:\n",
    "\t\tindReturn = Model.rateOfReturn(Model.retrieveData(stock, 'Last Price', -1 * index + 1, -1 * index + length, []))\n",
    "\t\tprint(stock + \": \" + str(indReturn))\n",
    "\t\tif (not math.isnan(indReturn)):\n",
    "\t\t\treturns += indReturn\n",
    "\t\telse:\n",
    "\t\t\tnancount += 1\n",
    "\tif len(portfolio) - nancount == 0:\n",
    "\t\ttotal = 0\n",
    "\telse:\n",
    "\t\ttotal = returns/(len(portfolio)-nancount)\n",
    "\tprint(\"Start Date: \" + str(Model.convertIndexToDate(-1 * index + 1)))\n",
    "\tprint(\"Total Return: \" +str(total))\n",
    "\treturn (total)\n",
    "\n",
    "\n",
    "# make a portfolio with predicted probabilities higher than a hardcoded threshold\n",
    "def makePortfolio(treeTuple):\n",
    "\tfeatureList = ['EPS Growth', 'Volatility 180 D', 'Trailing EPS', 'Price to Cash Flow', 'EPS', 'Volume', 'Return on Assets', 'Price to Book', 'Dividend Yield', 'Total Debt to Total Equity', 'Return on Invested Capital', 'Return on Common Equity']\n",
    "\taddedStocks, probabilities = Model.predict_probabilities(treeTuple[1], startIndex = -1 * treeTuple[0] - 11, endIndex = -1 * treeTuple[0], features = featureList, sector = \"Financials\")\n",
    "\tprobabilityThreshold = 0.8\n",
    "\tstockTuples = zip(addedStocks, probabilities)\n",
    "\tstockTuples = list(filter(lambda x: x[1][1] > probabilityThreshold, stockTuples))\n",
    "\tif len(stockTuples) == 0:\n",
    "\t\tprint(\"No portfolio, probabilities lower than threshold of \" + str(probabilityThreshold))\n",
    "\t\treturn 0\n",
    "\tstocks, probabilities = zip(*stockTuples)\n",
    "\treturn(getReturns(stocks, treeTuple[0], 3))"
   ]
  },
  {
   "cell_type": "code",
   "execution_count": 2,
   "metadata": {},
   "outputs": [
    {
     "name": "stdout",
     "output_type": "stream",
     "text": [
      "8\n",
      "[array([-219, -216, -213, -210, -207, -204, -201, -198, -195, -192, -189,\n",
      "       -186, -183, -180, -177, -174, -171, -168, -165, -162, -159, -156,\n",
      "       -153, -150, -147, -144, -141, -138, -135, -132, -129, -126, -123,\n",
      "       -120, -117, -114, -111, -108, -105, -102,  -99,  -96,  -93,  -90,\n",
      "        -87,  -84,  -81,  -78,  -75,  -72,  -69,  -66,  -63,  -60,  -57,\n",
      "        -54,  -51,  -48,  -45,  -42,  -39,  -36,  -33,  -30,  -27,  -24,\n",
      "        -21]), array([-222, -219, -216, -213, -210, -207, -204, -201, -198, -195, -192,\n",
      "       -189, -186, -183, -180, -177, -174, -171, -168, -165, -162, -159,\n",
      "       -156, -153, -150, -147, -144, -141, -138, -135, -132, -129, -126,\n",
      "       -123, -120, -117, -114, -111, -108, -105, -102,  -99,  -96,  -93,\n",
      "        -90,  -87,  -84,  -81,  -78,  -75,  -72,  -69,  -66,  -63,  -60,\n",
      "        -57,  -54,  -51,  -48,  -45,  -42,  -39,  -36,  -33,  -30,  -27,\n",
      "        -24]), array([-225, -222, -219, -216, -213, -210, -207, -204, -201, -198, -195,\n",
      "       -192, -189, -186, -183, -180, -177, -174, -171, -168, -165, -162,\n",
      "       -159, -156, -153, -150, -147, -144, -141, -138, -135, -132, -129,\n",
      "       -126, -123, -120, -117, -114, -111, -108, -105, -102,  -99,  -96,\n",
      "        -93,  -90,  -87,  -84,  -81,  -78,  -75,  -72,  -69,  -66,  -63,\n",
      "        -60,  -57,  -54,  -51,  -48,  -45,  -42,  -39,  -36,  -33,  -30,\n",
      "        -27]), array([-228, -225, -222, -219, -216, -213, -210, -207, -204, -201, -198,\n",
      "       -195, -192, -189, -186, -183, -180, -177, -174, -171, -168, -165,\n",
      "       -162, -159, -156, -153, -150, -147, -144, -141, -138, -135, -132,\n",
      "       -129, -126, -123, -120, -117, -114, -111, -108, -105, -102,  -99,\n",
      "        -96,  -93,  -90,  -87,  -84,  -81,  -78,  -75,  -72,  -69,  -66,\n",
      "        -63,  -60,  -57,  -54,  -51,  -48,  -45,  -42,  -39,  -36,  -33,\n",
      "        -30]), array([-231, -228, -225, -222, -219, -216, -213, -210, -207, -204, -201,\n",
      "       -198, -195, -192, -189, -186, -183, -180, -177, -174, -171, -168,\n",
      "       -165, -162, -159, -156, -153, -150, -147, -144, -141, -138, -135,\n",
      "       -132, -129, -126, -123, -120, -117, -114, -111, -108, -105, -102,\n",
      "        -99,  -96,  -93,  -90,  -87,  -84,  -81,  -78,  -75,  -72,  -69,\n",
      "        -66,  -63,  -60,  -57,  -54,  -51,  -48,  -45,  -42,  -39,  -36,\n",
      "        -33]), array([-234, -231, -228, -225, -222, -219, -216, -213, -210, -207, -204,\n",
      "       -201, -198, -195, -192, -189, -186, -183, -180, -177, -174, -171,\n",
      "       -168, -165, -162, -159, -156, -153, -150, -147, -144, -141, -138,\n",
      "       -135, -132, -129, -126, -123, -120, -117, -114, -111, -108, -105,\n",
      "       -102,  -99,  -96,  -93,  -90,  -87,  -84,  -81,  -78,  -75,  -72,\n",
      "        -69,  -66,  -63,  -60,  -57,  -54,  -51,  -48,  -45,  -42,  -39,\n",
      "        -36]), array([-237, -234, -231, -228, -225, -222, -219, -216, -213, -210, -207,\n",
      "       -204, -201, -198, -195, -192, -189, -186, -183, -180, -177, -174,\n",
      "       -171, -168, -165, -162, -159, -156, -153, -150, -147, -144, -141,\n",
      "       -138, -135, -132, -129, -126, -123, -120, -117, -114, -111, -108,\n",
      "       -105, -102,  -99,  -96,  -93,  -90,  -87,  -84,  -81,  -78,  -75,\n",
      "        -72,  -69,  -66,  -63,  -60,  -57,  -54,  -51,  -48,  -45,  -42,\n",
      "        -39]), array([-240, -237, -234, -231, -228, -225, -222, -219, -216, -213, -210,\n",
      "       -207, -204, -201, -198, -195, -192, -189, -186, -183, -180, -177,\n",
      "       -174, -171, -168, -165, -162, -159, -156, -153, -150, -147, -144,\n",
      "       -141, -138, -135, -132, -129, -126, -123, -120, -117, -114, -111,\n",
      "       -108, -105, -102,  -99,  -96,  -93,  -90,  -87,  -84,  -81,  -78,\n",
      "        -75,  -72,  -69,  -66,  -63,  -60,  -57,  -54,  -51,  -48,  -45,\n",
      "        -42])]\n"
     ]
    }
   ],
   "source": [
    "indexes = []\n",
    "for i in rebalanceIndexes(4,28):\n",
    "    maxLength = 200\n",
    "    targetLength = 3\n",
    "    featureLength = 12\n",
    "    indexes.append(np.arange(-1 * (targetLength + featureLength) - i + maxLength * -1, -1 * (targetLength + featureLength) - i, targetLength))\n",
    "print(len(indexes))\n",
    "print(indexes)"
   ]
  },
  {
   "cell_type": "code",
   "execution_count": 4,
   "metadata": {},
   "outputs": [
    {
     "name": "stdout",
     "output_type": "stream",
     "text": [
      "# of multiprocess cpus: 8\n"
     ]
    },
    {
     "ename": "NameError",
     "evalue": "name 'featureList' is not defined",
     "output_type": "error",
     "traceback": [
      "\u001b[0;31m---------------------------------------------------------------------------\u001b[0m",
      "\u001b[0;31mNameError\u001b[0m                                 Traceback (most recent call last)",
      "\u001b[0;32m<ipython-input-4-bdada09f000a>\u001b[0m in \u001b[0;36m<module>\u001b[0;34m()\u001b[0m\n\u001b[1;32m      3\u001b[0m \u001b[0mforestList\u001b[0m \u001b[0;34m=\u001b[0m \u001b[0;34m[\u001b[0m\u001b[0;34m]\u001b[0m\u001b[0;34m\u001b[0m\u001b[0m\n\u001b[1;32m      4\u001b[0m \u001b[0;32mfor\u001b[0m \u001b[0mind\u001b[0m \u001b[0;32min\u001b[0m \u001b[0mindexes\u001b[0m\u001b[0;34m:\u001b[0m\u001b[0;34m\u001b[0m\u001b[0m\n\u001b[0;32m----> 5\u001b[0;31m         \u001b[0mrandForest\u001b[0m \u001b[0;34m=\u001b[0m \u001b[0mModel\u001b[0m\u001b[0;34m.\u001b[0m\u001b[0mbuildWithIndexesTripleClass\u001b[0m\u001b[0;34m(\u001b[0m\u001b[0mmodelType\u001b[0m \u001b[0;34m=\u001b[0m \u001b[0mModel\u001b[0m\u001b[0;34m.\u001b[0m\u001b[0mrandomForestClassifier\u001b[0m\u001b[0;34m,\u001b[0m \u001b[0mindexes\u001b[0m \u001b[0;34m=\u001b[0m \u001b[0mind\u001b[0m\u001b[0;34m,\u001b[0m \u001b[0mtarget\u001b[0m\u001b[0;34m=\u001b[0m \u001b[0;34m'Rate of Return'\u001b[0m\u001b[0;34m,\u001b[0m \u001b[0mfeatures\u001b[0m \u001b[0;34m=\u001b[0m \u001b[0mfeatureList\u001b[0m\u001b[0;34m,\u001b[0m \u001b[0mfeatureLength\u001b[0m \u001b[0;34m=\u001b[0m \u001b[0;36m12\u001b[0m\u001b[0;34m,\u001b[0m                                                                   \u001b[0mtargetLength\u001b[0m \u001b[0;34m=\u001b[0m \u001b[0;36m3\u001b[0m\u001b[0;34m,\u001b[0m \u001b[0msector\u001b[0m \u001b[0;34m=\u001b[0m \u001b[0msector\u001b[0m\u001b[0;34m,\u001b[0m \u001b[0mpercentileTarget\u001b[0m \u001b[0;34m=\u001b[0m \u001b[0;36m90\u001b[0m\u001b[0;34m,\u001b[0m \u001b[0mpercentileAvoid\u001b[0m \u001b[0;34m=\u001b[0m \u001b[0;36m10\u001b[0m\u001b[0;34m,\u001b[0m \u001b[0mverbose\u001b[0m \u001b[0;34m=\u001b[0m \u001b[0;32mTrue\u001b[0m\u001b[0;34m)\u001b[0m\u001b[0;34m\u001b[0m\u001b[0m\n\u001b[0m\u001b[1;32m      6\u001b[0m         \u001b[0mforestList\u001b[0m\u001b[0;34m.\u001b[0m\u001b[0mextend\u001b[0m\u001b[0;34m(\u001b[0m\u001b[0mrandForest\u001b[0m\u001b[0;34m)\u001b[0m\u001b[0;34m\u001b[0m\u001b[0m\n\u001b[1;32m      7\u001b[0m \u001b[0mprint\u001b[0m\u001b[0;34m(\u001b[0m\u001b[0mforestList\u001b[0m\u001b[0;34m)\u001b[0m\u001b[0;34m\u001b[0m\u001b[0m\n",
      "\u001b[0;31mNameError\u001b[0m: name 'featureList' is not defined"
     ]
    }
   ],
   "source": [
    "print(\"# of multiprocess cpus: \" + str(os.cpu_count()))\n",
    "sector = \"Financials\"\n",
    "featureList = ['EPS Growth', 'Volatility 180 D', 'Trailing EPS', 'Price to Cash Flow', 'EPS', 'Volume', 'Return on Assets', 'Price to Book', 'Dividend Yield', 'Total Debt to Total Equity', 'Return on Invested Capital', 'Return on Common Equity']\n",
    "forestList = []\n",
    "for ind in indexes:\n",
    "\trandForest = Model.buildWithIndexesTripleClass(modelType = Model.randomForestClassifier, indexes = ind, target= 'Rate of Return', features = featureList, featureLength = 12,\\\n",
    "\t\t\t\t\t\t\t\t\ttargetLength = 3, sector = sector, percentileTarget = 90, percentileAvoid = 10, verbose = True)\n",
    "\tforestList.extend(randForest)\n",
    "print(forestList)"
   ]
  },
  {
   "cell_type": "code",
   "execution_count": null,
   "metadata": {},
   "outputs": [],
   "source": [
    "pool = Pool(os.cpu_count())\n",
    "print(\"# of multiprocess cpus: \" + str(os.cpu_count()))\n",
    "returnsList = pool.map(makePortfolio, zip(rebalanceIndexes(4,28), forestList))\n",
    "print(returnsList)"
   ]
  },
  {
   "cell_type": "code",
   "execution_count": null,
   "metadata": {},
   "outputs": [],
   "source": []
  }
 ],
 "metadata": {
  "kernelspec": {
   "display_name": "Python 3",
   "language": "python",
   "name": "python3"
  },
  "language_info": {
   "codemirror_mode": {
    "name": "ipython",
    "version": 3
   },
   "file_extension": ".py",
   "mimetype": "text/x-python",
   "name": "python",
   "nbconvert_exporter": "python",
   "pygments_lexer": "ipython3",
   "version": "3.6.4"
  }
 },
 "nbformat": 4,
 "nbformat_minor": 2
}
