{
 "cells": [
  {
   "cell_type": "code",
   "execution_count": 1,
   "metadata": {},
   "outputs": [],
   "source": [
    "import datetime\n",
    "import Model\n",
    "import numpy as np\n",
    "import pandas as pd\n",
    "import math\n",
    "from multiprocessing import Pool\n",
    "import os\n",
    "import warnings\n",
    "import time\n",
    "import matplotlib.pyplot as plt\n",
    "from importlib import reload\n",
    "\n",
    "reload(Model)\n",
    "warnings.simplefilter('ignore', FutureWarning)\n",
    "\n",
    "# positive numbers, start should be lower than end\n",
    "# a rebalance index represents the month before the rebalancing takes place\n",
    "# so returns are calculated starting at rebalanceIndex + 1\n",
    "def rebalanceIndexes(startIndex, endIndex):\n",
    "    indexes = list(range(startIndex, endIndex, 3))\n",
    "    indexes.reverse()\n",
    "    return (indexes)\n",
    "\n",
    "\n",
    "# get ln returns for an equally balanced portfolio of stocks\n",
    "def getReturns(portfolio, index, length):\n",
    "\treturns = 0\n",
    "\tprint(portfolio)\n",
    "\tprint(-1 * index + 1)\n",
    "\tprint(-1 * index + length)\n",
    "\tnancount = 0\n",
    "\tfor stock in portfolio:\n",
    "\t\tindReturn = Model.rateOfReturn(Model.retrieveData(stock, 'Last Price', -1 * index + 1, -1 * index + length, []))\n",
    "\t\tprint(stock + \": \" + str(indReturn))\n",
    "\t\tif (not math.isnan(indReturn)):\n",
    "\t\t\treturns += indReturn\n",
    "\t\telse:\n",
    "\t\t\tnancount += 1\n",
    "\tif len(portfolio) - nancount == 0:\n",
    "\t\ttotal = 0\n",
    "\telse:\n",
    "\t\ttotal = returns/(len(portfolio)-nancount)\n",
    "\tprint(\"Start Date: \" + str(Model.convertIndexToDate(-1 * index + 1)))\n",
    "\tprint(\"Total Return: \" +str(total))\n",
    "\treturn (total)\n",
    "\n",
    "\n",
    "# make a portfolio with predicted probabilities higher than a hardcoded threshold\n",
    "def makePortfolio(treeTuple):\n",
    "\tfeatureList = ['EPS Growth', 'Volatility 180 D', 'Trailing EPS', 'Price to Cash Flow', 'EPS', 'Volume', 'Return on Assets', 'Price to Book', 'Dividend Yield', 'Total Debt to Total Equity', 'Return on Invested Capital', 'Return on Common Equity']\n",
    "\taddedStocks, probabilities = Model.predict_probabilities(treeTuple[1], startIndex = -1 * treeTuple[0] - 11, endIndex = -1 * treeTuple[0], features = featureList, sector = \"Financials\")\n",
    "\tprobabilityThreshold = 0.85\n",
    "\tstockTuples = zip(addedStocks, probabilities)\n",
    "\tstockTuples = list(filter(lambda x: x[1][1] > probabilityThreshold, stockTuples))\n",
    "\tif len(stockTuples) == 0:\n",
    "\t\tprint(\"No portfolio, probabilities lower than threshold of \" + str(probabilityThreshold))\n",
    "\t\treturn 0\n",
    "\tstocks, probabilities = zip(*stockTuples)\n",
    "\treturn(getReturns(stocks, treeTuple[0], 3))"
   ]
  },
  {
   "cell_type": "code",
   "execution_count": 2,
   "metadata": {},
   "outputs": [],
   "source": [
    "def poolBuild(trainIndexes):\n",
    "    t = time.time()\n",
    "    featureList = ['EPS Growth', 'Volatility 180 D', 'Trailing EPS', 'Price to Cash Flow', 'EPS', 'Volume', 'Return on Assets', 'Price to Book', 'Dividend Yield', 'Total Debt to Total Equity', 'Return on Invested Capital', 'Return on Common Equity']\n",
    "    forest = Model.buildWithIndexesTripleClass(modelType = Model.randomForestClassifier, indexes = trainIndexes, target= 'Rate of Return', features = featureList, \\\n",
    "                                               featureLength = 12, targetLength = 3, sector = \"Financials\", percentileTarget = 90, percentileAvoid = 10)\n",
    "    print(\"Build time: \" + str(time.time()-t) + \" seconds.\")\n",
    "    return forest"
   ]
  },
  {
   "cell_type": "code",
   "execution_count": 3,
   "metadata": {},
   "outputs": [
    {
     "name": "stdout",
     "output_type": "stream",
     "text": [
      "8\n",
      "[array([-340, -337, -334, -331, -328, -325, -322, -319, -316, -313, -310,\n",
      "       -307, -304, -301, -298, -295, -292, -289, -286, -283, -280, -277,\n",
      "       -274, -271, -268, -265, -262, -259, -256, -253, -250, -247, -244,\n",
      "       -241, -238, -235, -232, -229, -226, -223, -220, -217, -214, -211,\n",
      "       -208, -205, -202, -199, -196, -193, -190, -187, -184, -181, -178,\n",
      "       -175, -172, -169, -166, -163, -160, -157, -154, -151, -148, -145,\n",
      "       -142, -139, -136, -133, -130, -127, -124, -121, -118, -115, -112,\n",
      "       -109, -106, -103, -100,  -97,  -94,  -91,  -88,  -85,  -82,  -79,\n",
      "        -76,  -73,  -70,  -67,  -64,  -61,  -58,  -55,  -52,  -49,  -46,\n",
      "        -43]), array([-337, -334, -331, -328, -325, -322, -319, -316, -313, -310, -307,\n",
      "       -304, -301, -298, -295, -292, -289, -286, -283, -280, -277, -274,\n",
      "       -271, -268, -265, -262, -259, -256, -253, -250, -247, -244, -241,\n",
      "       -238, -235, -232, -229, -226, -223, -220, -217, -214, -211, -208,\n",
      "       -205, -202, -199, -196, -193, -190, -187, -184, -181, -178, -175,\n",
      "       -172, -169, -166, -163, -160, -157, -154, -151, -148, -145, -142,\n",
      "       -139, -136, -133, -130, -127, -124, -121, -118, -115, -112, -109,\n",
      "       -106, -103, -100,  -97,  -94,  -91,  -88,  -85,  -82,  -79,  -76,\n",
      "        -73,  -70,  -67,  -64,  -61,  -58,  -55,  -52,  -49,  -46,  -43,\n",
      "        -40]), array([-334, -331, -328, -325, -322, -319, -316, -313, -310, -307, -304,\n",
      "       -301, -298, -295, -292, -289, -286, -283, -280, -277, -274, -271,\n",
      "       -268, -265, -262, -259, -256, -253, -250, -247, -244, -241, -238,\n",
      "       -235, -232, -229, -226, -223, -220, -217, -214, -211, -208, -205,\n",
      "       -202, -199, -196, -193, -190, -187, -184, -181, -178, -175, -172,\n",
      "       -169, -166, -163, -160, -157, -154, -151, -148, -145, -142, -139,\n",
      "       -136, -133, -130, -127, -124, -121, -118, -115, -112, -109, -106,\n",
      "       -103, -100,  -97,  -94,  -91,  -88,  -85,  -82,  -79,  -76,  -73,\n",
      "        -70,  -67,  -64,  -61,  -58,  -55,  -52,  -49,  -46,  -43,  -40,\n",
      "        -37]), array([-331, -328, -325, -322, -319, -316, -313, -310, -307, -304, -301,\n",
      "       -298, -295, -292, -289, -286, -283, -280, -277, -274, -271, -268,\n",
      "       -265, -262, -259, -256, -253, -250, -247, -244, -241, -238, -235,\n",
      "       -232, -229, -226, -223, -220, -217, -214, -211, -208, -205, -202,\n",
      "       -199, -196, -193, -190, -187, -184, -181, -178, -175, -172, -169,\n",
      "       -166, -163, -160, -157, -154, -151, -148, -145, -142, -139, -136,\n",
      "       -133, -130, -127, -124, -121, -118, -115, -112, -109, -106, -103,\n",
      "       -100,  -97,  -94,  -91,  -88,  -85,  -82,  -79,  -76,  -73,  -70,\n",
      "        -67,  -64,  -61,  -58,  -55,  -52,  -49,  -46,  -43,  -40,  -37,\n",
      "        -34]), array([-328, -325, -322, -319, -316, -313, -310, -307, -304, -301, -298,\n",
      "       -295, -292, -289, -286, -283, -280, -277, -274, -271, -268, -265,\n",
      "       -262, -259, -256, -253, -250, -247, -244, -241, -238, -235, -232,\n",
      "       -229, -226, -223, -220, -217, -214, -211, -208, -205, -202, -199,\n",
      "       -196, -193, -190, -187, -184, -181, -178, -175, -172, -169, -166,\n",
      "       -163, -160, -157, -154, -151, -148, -145, -142, -139, -136, -133,\n",
      "       -130, -127, -124, -121, -118, -115, -112, -109, -106, -103, -100,\n",
      "        -97,  -94,  -91,  -88,  -85,  -82,  -79,  -76,  -73,  -70,  -67,\n",
      "        -64,  -61,  -58,  -55,  -52,  -49,  -46,  -43,  -40,  -37,  -34,\n",
      "        -31]), array([-325, -322, -319, -316, -313, -310, -307, -304, -301, -298, -295,\n",
      "       -292, -289, -286, -283, -280, -277, -274, -271, -268, -265, -262,\n",
      "       -259, -256, -253, -250, -247, -244, -241, -238, -235, -232, -229,\n",
      "       -226, -223, -220, -217, -214, -211, -208, -205, -202, -199, -196,\n",
      "       -193, -190, -187, -184, -181, -178, -175, -172, -169, -166, -163,\n",
      "       -160, -157, -154, -151, -148, -145, -142, -139, -136, -133, -130,\n",
      "       -127, -124, -121, -118, -115, -112, -109, -106, -103, -100,  -97,\n",
      "        -94,  -91,  -88,  -85,  -82,  -79,  -76,  -73,  -70,  -67,  -64,\n",
      "        -61,  -58,  -55,  -52,  -49,  -46,  -43,  -40,  -37,  -34,  -31,\n",
      "        -28]), array([-322, -319, -316, -313, -310, -307, -304, -301, -298, -295, -292,\n",
      "       -289, -286, -283, -280, -277, -274, -271, -268, -265, -262, -259,\n",
      "       -256, -253, -250, -247, -244, -241, -238, -235, -232, -229, -226,\n",
      "       -223, -220, -217, -214, -211, -208, -205, -202, -199, -196, -193,\n",
      "       -190, -187, -184, -181, -178, -175, -172, -169, -166, -163, -160,\n",
      "       -157, -154, -151, -148, -145, -142, -139, -136, -133, -130, -127,\n",
      "       -124, -121, -118, -115, -112, -109, -106, -103, -100,  -97,  -94,\n",
      "        -91,  -88,  -85,  -82,  -79,  -76,  -73,  -70,  -67,  -64,  -61,\n",
      "        -58,  -55,  -52,  -49,  -46,  -43,  -40,  -37,  -34,  -31,  -28,\n",
      "        -25]), array([-319, -316, -313, -310, -307, -304, -301, -298, -295, -292, -289,\n",
      "       -286, -283, -280, -277, -274, -271, -268, -265, -262, -259, -256,\n",
      "       -253, -250, -247, -244, -241, -238, -235, -232, -229, -226, -223,\n",
      "       -220, -217, -214, -211, -208, -205, -202, -199, -196, -193, -190,\n",
      "       -187, -184, -181, -178, -175, -172, -169, -166, -163, -160, -157,\n",
      "       -154, -151, -148, -145, -142, -139, -136, -133, -130, -127, -124,\n",
      "       -121, -118, -115, -112, -109, -106, -103, -100,  -97,  -94,  -91,\n",
      "        -88,  -85,  -82,  -79,  -76,  -73,  -70,  -67,  -64,  -61,  -58,\n",
      "        -55,  -52,  -49,  -46,  -43,  -40,  -37,  -34,  -31,  -28,  -25,\n",
      "        -22])]\n"
     ]
    }
   ],
   "source": [
    "indexes = []\n",
    "for i in rebalanceIndexes(4,28):\n",
    "    maxLength = 300\n",
    "    targetLength = 3\n",
    "    featureLength = 12\n",
    "    indexes.append(np.arange(-1 * (targetLength + featureLength) - i + maxLength * -1, -1 * (targetLength + featureLength) - i, targetLength))\n",
    "print(len(indexes))\n",
    "print(indexes)"
   ]
  },
  {
   "cell_type": "code",
   "execution_count": null,
   "metadata": {},
   "outputs": [
    {
     "name": "stdout",
     "output_type": "stream",
     "text": [
      "# of multiprocess cpus: 8\n"
     ]
    }
   ],
   "source": [
    "pool = Pool(os.cpu_count())\n",
    "print(\"# of multiprocess cpus: \" + str(os.cpu_count()))\n",
    "forestList = pool.map(poolBuild, indexes)\n",
    "print(forestList)"
   ]
  },
  {
   "cell_type": "code",
   "execution_count": null,
   "metadata": {},
   "outputs": [],
   "source": [
    "pool = Pool(os.cpu_count())\n",
    "print(\"# of multiprocess cpus: \" + str(os.cpu_count()))\n",
    "returnsList = pool.map(makePortfolio, zip(rebalanceIndexes(4,28), forestList))\n",
    "print(returnsList)"
   ]
  },
  {
   "cell_type": "code",
   "execution_count": null,
   "metadata": {},
   "outputs": [],
   "source": [
    "indexes = []\n",
    "for i in rebalanceIndexes(28,52):\n",
    "    maxLength = 300\n",
    "    targetLength = 3\n",
    "    featureLength = 12\n",
    "    indexes.append(np.arange(-1 * (targetLength + featureLength) - i + maxLength * -1, -1 * (targetLength + featureLength) - i, targetLength))\n",
    "print(len(indexes))\n",
    "print(indexes)"
   ]
  },
  {
   "cell_type": "code",
   "execution_count": null,
   "metadata": {},
   "outputs": [],
   "source": [
    "pool = Pool(os.cpu_count())\n",
    "print(\"# of multiprocess cpus: \" + str(os.cpu_count()))\n",
    "forestListTemp = pool.map(poolBuild, indexes)\n",
    "print(forestListTemp)\n",
    "forestListTemp.extend(forestList)\n",
    "forestList = forestListTemp"
   ]
  },
  {
   "cell_type": "code",
   "execution_count": null,
   "metadata": {},
   "outputs": [],
   "source": [
    "pool = Pool(os.cpu_count())\n",
    "print(\"# of multiprocess cpus: \" + str(os.cpu_count()))\n",
    "returnsListTemp = pool.map(makePortfolio, zip(rebalanceIndexes(28,52), forestList))\n",
    "print(returnsListTemp)\n",
    "returnsListTemp.extend(returnsList)\n",
    "returnsList = returnsListTemp"
   ]
  },
  {
   "cell_type": "code",
   "execution_count": null,
   "metadata": {},
   "outputs": [],
   "source": [
    "indexes = []\n",
    "for i in rebalanceIndexes(52,76):\n",
    "    maxLength = 200\n",
    "    targetLength = 3\n",
    "    featureLength = 12\n",
    "    indexes.append(np.arange(-1 * (targetLength + featureLength) - i + maxLength * -1, -1 * (targetLength + featureLength) - i, targetLength))\n",
    "print(len(indexes))\n",
    "print(indexes)"
   ]
  },
  {
   "cell_type": "code",
   "execution_count": null,
   "metadata": {},
   "outputs": [],
   "source": [
    "pool = Pool(os.cpu_count())\n",
    "print(\"# of multiprocess cpus: \" + str(os.cpu_count()))\n",
    "forestListTemp = pool.map(poolBuild, indexes)\n",
    "print(forestListTemp)\n",
    "forestListTemp.extend(forestList)\n",
    "forestList = forestListTemp"
   ]
  },
  {
   "cell_type": "code",
   "execution_count": null,
   "metadata": {},
   "outputs": [],
   "source": [
    "pool = Pool(os.cpu_count())\n",
    "print(\"# of multiprocess cpus: \" + str(os.cpu_count()))\n",
    "returnsListTemp = pool.map(makePortfolio, zip(rebalanceIndexes(52,76), forestList))\n",
    "print(returnsListTemp)\n",
    "returnsListTemp.extend(returnsList)\n",
    "returnsList = returnsListTemp"
   ]
  },
  {
   "cell_type": "code",
   "execution_count": null,
   "metadata": {},
   "outputs": [],
   "source": [
    "indexes = []\n",
    "for i in rebalanceIndexes(76,100):\n",
    "    maxLength = 300\n",
    "    targetLength = 3\n",
    "    featureLength = 12\n",
    "    indexes.append(np.arange(-1 * (targetLength + featureLength) - i + maxLength * -1, -1 * (targetLength + featureLength) - i, targetLength))\n",
    "print(len(indexes))\n",
    "print(indexes)"
   ]
  },
  {
   "cell_type": "code",
   "execution_count": null,
   "metadata": {},
   "outputs": [],
   "source": [
    "pool = Pool(os.cpu_count())\n",
    "print(\"# of multiprocess cpus: \" + str(os.cpu_count()))\n",
    "forestListTemp = pool.map(poolBuild, indexes)\n",
    "print(forestListTemp)\n",
    "forestListTemp.extend(forestList)\n",
    "forestList = forestListTemp"
   ]
  },
  {
   "cell_type": "code",
   "execution_count": null,
   "metadata": {},
   "outputs": [],
   "source": [
    "pool = Pool(os.cpu_count())\n",
    "print(\"# of multiprocess cpus: \" + str(os.cpu_count()))\n",
    "returnsListTemp = pool.map(makePortfolio, zip(rebalanceIndexes(76,100), forestList))\n",
    "print(returnsListTemp)\n",
    "returnsList.extend(returnsListTemp)"
   ]
  },
  {
   "cell_type": "code",
   "execution_count": null,
   "metadata": {},
   "outputs": [],
   "source": [
    "indexes = []\n",
    "for i in rebalanceIndexes(100,124):\n",
    "    maxLength = 300\n",
    "    targetLength = 3\n",
    "    featureLength = 12\n",
    "    indexes.append(np.arange(-1 * (targetLength + featureLength) - i + maxLength * -1, -1 * (targetLength + featureLength) - i, targetLength))\n",
    "print(len(indexes))\n",
    "print(indexes)"
   ]
  },
  {
   "cell_type": "code",
   "execution_count": null,
   "metadata": {},
   "outputs": [],
   "source": [
    "pool = Pool(os.cpu_count())\n",
    "print(\"# of multiprocess cpus: \" + str(os.cpu_count()))\n",
    "forestListTemp = pool.map(poolBuild, indexes)\n",
    "print(forestListTemp)\n",
    "forestListTemp.extend(forestList)\n",
    "forestList = forestListTemp"
   ]
  },
  {
   "cell_type": "code",
   "execution_count": null,
   "metadata": {},
   "outputs": [],
   "source": [
    "pool = Pool(os.cpu_count())\n",
    "print(\"# of multiprocess cpus: \" + str(os.cpu_count()))\n",
    "returnsListTemp = pool.map(makePortfolio, zip(rebalanceIndexes(100,124), forestList))\n",
    "print(returnsListTemp)\n",
    "returnsList.extend(returnsListTemp)"
   ]
  },
  {
   "cell_type": "code",
   "execution_count": null,
   "metadata": {},
   "outputs": [],
   "source": [
    "indexes = []\n",
    "for i in rebalanceIndexes(124,148):\n",
    "    maxLength = 300\n",
    "    targetLength = 3\n",
    "    featureLength = 12\n",
    "    indexes.append(np.arange(-1 * (targetLength + featureLength) - i + maxLength * -1, -1 * (targetLength + featureLength) - i, targetLength))\n",
    "print(len(indexes))\n",
    "print(indexes)"
   ]
  },
  {
   "cell_type": "code",
   "execution_count": null,
   "metadata": {},
   "outputs": [],
   "source": [
    "pool = Pool(os.cpu_count())\n",
    "print(\"# of multiprocess cpus: \" + str(os.cpu_count()))\n",
    "forestListTemp = pool.map(poolBuild, indexes)\n",
    "print(forestListTemp)\n",
    "forestListTemp.extend(forestList)\n",
    "forestList = forestListTemp"
   ]
  },
  {
   "cell_type": "code",
   "execution_count": null,
   "metadata": {},
   "outputs": [],
   "source": [
    "pool = Pool(os.cpu_count())\n",
    "print(\"# of multiprocess cpus: \" + str(os.cpu_count()))\n",
    "returnsListTemp = pool.map(makePortfolio, zip(rebalanceIndexes(124,148), forestList))\n",
    "print(returnsListTemp)\n",
    "returnsList.extend(returnsListTemp)"
   ]
  },
  {
   "cell_type": "code",
   "execution_count": null,
   "metadata": {},
   "outputs": [],
   "source": [
    "indexes = []\n",
    "for i in rebalanceIndexes(148,172):\n",
    "    maxLength = 300\n",
    "    targetLength = 3\n",
    "    featureLength = 12\n",
    "    indexes.append(np.arange(-1 * (targetLength + featureLength) - i + maxLength * -1, -1 * (targetLength + featureLength) - i, targetLength))\n",
    "print(len(indexes))\n",
    "print(indexes)"
   ]
  },
  {
   "cell_type": "code",
   "execution_count": null,
   "metadata": {},
   "outputs": [],
   "source": [
    "pool = Pool(os.cpu_count())\n",
    "print(\"# of multiprocess cpus: \" + str(os.cpu_count()))\n",
    "forestListTemp = pool.map(poolBuild, indexes)\n",
    "print(forestListTemp)\n",
    "forestListTemp.extend(forestList)\n",
    "forestList = forestListTemp"
   ]
  },
  {
   "cell_type": "code",
   "execution_count": null,
   "metadata": {},
   "outputs": [],
   "source": [
    "pool = Pool(os.cpu_count())\n",
    "print(\"# of multiprocess cpus: \" + str(os.cpu_count()))\n",
    "returnsListTemp = pool.map(makePortfolio, zip(rebalanceIndexes(148,172), forestList))\n",
    "print(returnsListTemp)\n",
    "returnsList.extend(returnsListTemp)"
   ]
  },
  {
   "cell_type": "code",
   "execution_count": null,
   "metadata": {},
   "outputs": [],
   "source": [
    "indexes = []\n",
    "for i in rebalanceIndexes(172,196):\n",
    "    maxLength = 300\n",
    "    targetLength = 3\n",
    "    featureLength = 12\n",
    "    indexes.append(np.arange(-1 * (targetLength + featureLength) - i + maxLength * -1, -1 * (targetLength + featureLength) - i, targetLength))\n",
    "print(len(indexes))\n",
    "print(indexes)"
   ]
  },
  {
   "cell_type": "code",
   "execution_count": null,
   "metadata": {},
   "outputs": [],
   "source": [
    "pool = Pool(os.cpu_count())\n",
    "print(\"# of multiprocess cpus: \" + str(os.cpu_count()))\n",
    "forestListTemp = pool.map(poolBuild, indexes)\n",
    "print(forestListTemp)\n",
    "forestListTemp.extend(forestList)\n",
    "forestList = forestListTemp"
   ]
  },
  {
   "cell_type": "code",
   "execution_count": null,
   "metadata": {},
   "outputs": [],
   "source": [
    "pool = Pool(os.cpu_count())\n",
    "print(\"# of multiprocess cpus: \" + str(os.cpu_count()))\n",
    "returnsListTemp = pool.map(makePortfolio, zip(rebalanceIndexes(172,196), forestList))\n",
    "print(returnsListTemp)\n",
    "returnsList.extend(returnsListTemp)"
   ]
  },
  {
   "cell_type": "code",
   "execution_count": null,
   "metadata": {},
   "outputs": [],
   "source": [
    "print(returnsList)\n",
    "print(\"Mean: \" + str(np.mean(returnsList)))\n",
    "print(\"Std Dev: \" + str(np.std(returnsList)))\n",
    "print(\"Total Sum: \" + str(sum(returnsList)))\n",
    "plt.hist(returnsList, 8, facecolor='green', alpha=0.75)"
   ]
  },
  {
   "cell_type": "code",
   "execution_count": null,
   "metadata": {},
   "outputs": [],
   "source": []
  }
 ],
 "metadata": {
  "kernelspec": {
   "display_name": "Python 3",
   "language": "python",
   "name": "python3"
  },
  "language_info": {
   "codemirror_mode": {
    "name": "ipython",
    "version": 3
   },
   "file_extension": ".py",
   "mimetype": "text/x-python",
   "name": "python",
   "nbconvert_exporter": "python",
   "pygments_lexer": "ipython3",
   "version": "3.6.4"
  }
 },
 "nbformat": 4,
 "nbformat_minor": 2
}
