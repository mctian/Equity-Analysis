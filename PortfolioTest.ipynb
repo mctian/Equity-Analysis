{
 "cells": [
  {
   "cell_type": "code",
   "execution_count": 1,
   "metadata": {},
   "outputs": [],
   "source": [
    "import datetime\n",
    "import Model\n",
    "import numpy as np\n",
    "import pandas as pd\n",
    "import math\n",
    "from multiprocessing import Pool\n",
    "import os\n",
    "import warnings\n",
    "import time\n",
    "import matplotlib.pyplot as plt\n",
    "\n",
    "warnings.simplefilter('ignore', FutureWarning)\n",
    "\n",
    "# positive numbers, start should be lower than end\n",
    "# a rebalance index represents the month before the rebalancing takes place\n",
    "# so returns are calculated starting at rebalanceIndex + 1\n",
    "def rebalanceIndexes(startIndex, endIndex):\n",
    "    indexes = list(range(startIndex, endIndex, 3))\n",
    "    indexes.reverse()\n",
    "    return (indexes)\n",
    "\n",
    "\n",
    "# get ln returns for an equally balanced portfolio of stocks\n",
    "def getReturns(portfolio, index, length):\n",
    "\treturns = 0\n",
    "\tprint(portfolio)\n",
    "\tprint(-1 * index + 1)\n",
    "\tprint(-1 * index + length)\n",
    "\tnancount = 0\n",
    "\tfor stock in portfolio:\n",
    "\t\tindReturn = Model.rateOfReturn(Model.retrieveData(stock, 'Last Price', -1 * index + 1, -1 * index + length, []))\n",
    "\t\tprint(stock + \": \" + str(indReturn))\n",
    "\t\tif (not math.isnan(indReturn)):\n",
    "\t\t\treturns += indReturn\n",
    "\t\telse:\n",
    "\t\t\tnancount += 1\n",
    "\tif len(portfolio) - nancount == 0:\n",
    "\t\ttotal = 0\n",
    "\telse:\n",
    "\t\ttotal = returns/(len(portfolio)-nancount)\n",
    "\tprint(\"Start Date: \" + str(Model.convertIndexToDate(-1 * index + 1)))\n",
    "\tprint(\"Total Return: \" +str(total))\n",
    "\treturn (total)\n",
    "\n",
    "\n",
    "# make a portfolio with predicted probabilities higher than a hardcoded threshold\n",
    "def makePortfolio(treeTuple):\n",
    "\tfeatureList = ['EPS Growth', 'Volatility 180 D', 'Trailing EPS', 'Price to Cash Flow', 'EPS', 'Volume', 'Return on Assets', 'Price to Book', 'Dividend Yield', 'Total Debt to Total Equity', 'Return on Invested Capital', 'Return on Common Equity']\n",
    "\taddedStocks, probabilities = Model.predict_probabilities(treeTuple[1], startIndex = -1 * treeTuple[0] - 11, endIndex = -1 * treeTuple[0], features = featureList, sector = \"Financials\")\n",
    "\tprobabilityThreshold = 0.7\n",
    "\tstockTuples = zip(addedStocks, probabilities)\n",
    "\tstockTuples = list(filter(lambda x: x[1][1] > probabilityThreshold, stockTuples))\n",
    "\tif len(stockTuples) == 0:\n",
    "\t\tprint(\"No portfolio, probabilities lower than threshold of \" + str(probabilityThreshold))\n",
    "\t\treturn 0\n",
    "\tstocks, probabilities = zip(*stockTuples)\n",
    "\treturn(getReturns(stocks, treeTuple[0], 3))"
   ]
  },
  {
   "cell_type": "code",
   "execution_count": null,
   "metadata": {},
   "outputs": [],
   "source": [
    "def poolBuild(trainIndexes):\n",
    "    t = time.time()\n",
    "    featureList = ['EPS Growth', 'Volatility 180 D', 'Trailing EPS', 'Price to Cash Flow', 'EPS', 'Volume', 'Return on Assets', 'Price to Book', 'Dividend Yield', 'Total Debt to Total Equity', 'Return on Invested Capital', 'Return on Common Equity']\n",
    "    forest = Model.buildWithIndexesTripleClass(modelType = Model.randomForestClassifier, indexes = trainIndexes, target= 'Rate of Return', features = featureList, \\\n",
    "                                               featureLength = 12, targetLength = 3, sector = \"Financials\", percentileTarget = 90, percentileAvoid = 10)\n",
    "    print(\"Build time: \" + str(time.time()-t) + \" seconds.\")\n",
    "    return forest"
   ]
  },
  {
   "cell_type": "code",
   "execution_count": null,
   "metadata": {},
   "outputs": [],
   "source": [
    "indexes = []\n",
    "for i in rebalanceIndexes(4,28):\n",
    "    maxLength = 200\n",
    "    targetLength = 3\n",
    "    featureLength = 12\n",
    "    indexes.append(np.arange(-1 * (targetLength + featureLength) - i + maxLength * -1, -1 * (targetLength + featureLength) - i, targetLength))\n",
    "print(len(indexes))\n",
    "print(indexes)"
   ]
  },
  {
   "cell_type": "code",
   "execution_count": null,
   "metadata": {},
   "outputs": [],
   "source": [
    "pool = Pool(os.cpu_count())\n",
    "print(\"# of multiprocess cpus: \" + str(os.cpu_count()))\n",
    "forestList = pool.map(poolBuild, indexes)\n",
    "print(forestList)"
   ]
  },
  {
   "cell_type": "code",
   "execution_count": null,
   "metadata": {},
   "outputs": [],
   "source": [
    "pool = Pool(os.cpu_count())\n",
    "print(\"# of multiprocess cpus: \" + str(os.cpu_count()))\n",
    "returnsList = pool.map(makePortfolio, zip(rebalanceIndexes(4,28), forestList))\n",
    "print(returnsList)"
   ]
  },
  {
   "cell_type": "code",
   "execution_count": null,
   "metadata": {},
   "outputs": [],
   "source": [
    "indexes = []\n",
    "for i in rebalanceIndexes(28,52):\n",
    "    maxLength = 200\n",
    "    targetLength = 3\n",
    "    featureLength = 12\n",
    "    indexes.append(np.arange(-1 * (targetLength + featureLength) - i + maxLength * -1, -1 * (targetLength + featureLength) - i, targetLength))\n",
    "print(len(indexes))\n",
    "print(indexes)"
   ]
  },
  {
   "cell_type": "code",
   "execution_count": null,
   "metadata": {},
   "outputs": [],
   "source": [
    "pool = Pool(os.cpu_count())\n",
    "print(\"# of multiprocess cpus: \" + str(os.cpu_count()))\n",
    "forestList = pool.map(poolBuild, indexes)\n",
    "print(forestList)"
   ]
  },
  {
   "cell_type": "code",
   "execution_count": null,
   "metadata": {},
   "outputs": [],
   "source": [
    "pool = Pool(os.cpu_count())\n",
    "print(\"# of multiprocess cpus: \" + str(os.cpu_count()))\n",
    "returnsListTemp = pool.map(makePortfolio, zip(rebalanceIndexes(28,52), forestList))\n",
    "print(returnsListTemp)\n",
    "returnsList.extend(returnsListTemp)"
   ]
  },
  {
   "cell_type": "code",
   "execution_count": null,
   "metadata": {},
   "outputs": [],
   "source": [
    "indexes = []\n",
    "for i in rebalanceIndexes(52,76):\n",
    "    maxLength = 200\n",
    "    targetLength = 3\n",
    "    featureLength = 12\n",
    "    indexes.append(np.arange(-1 * (targetLength + featureLength) - i + maxLength * -1, -1 * (targetLength + featureLength) - i, targetLength))\n",
    "print(len(indexes))\n",
    "print(indexes)"
   ]
  },
  {
   "cell_type": "code",
   "execution_count": null,
   "metadata": {},
   "outputs": [],
   "source": [
    "pool = Pool(os.cpu_count())\n",
    "print(\"# of multiprocess cpus: \" + str(os.cpu_count()))\n",
    "forestList = pool.map(poolBuild, indexes)\n",
    "print(forestList)"
   ]
  },
  {
   "cell_type": "code",
   "execution_count": null,
   "metadata": {},
   "outputs": [],
   "source": [
    "pool = Pool(os.cpu_count())\n",
    "print(\"# of multiprocess cpus: \" + str(os.cpu_count()))\n",
    "returnsListTemp = pool.map(makePortfolio, zip(rebalanceIndexes(52,76), forestList))\n",
    "print(returnsListTemp)\n",
    "returnsList.extend(returnsListTemp)"
   ]
  },
  {
   "cell_type": "code",
   "execution_count": null,
   "metadata": {},
   "outputs": [],
   "source": [
    "indexes = []\n",
    "for i in rebalanceIndexes(76,100):\n",
    "    maxLength = 200\n",
    "    targetLength = 3\n",
    "    featureLength = 12\n",
    "    indexes.append(np.arange(-1 * (targetLength + featureLength) - i + maxLength * -1, -1 * (targetLength + featureLength) - i, targetLength))\n",
    "print(len(indexes))\n",
    "print(indexes)"
   ]
  },
  {
   "cell_type": "code",
   "execution_count": null,
   "metadata": {},
   "outputs": [],
   "source": [
    "pool = Pool(os.cpu_count())\n",
    "print(\"# of multiprocess cpus: \" + str(os.cpu_count()))\n",
    "forestList = pool.map(poolBuild, indexes)\n",
    "print(forestList)"
   ]
  },
  {
   "cell_type": "code",
   "execution_count": null,
   "metadata": {},
   "outputs": [],
   "source": [
    "pool = Pool(os.cpu_count())\n",
    "print(\"# of multiprocess cpus: \" + str(os.cpu_count()))\n",
    "returnsListTemp = pool.map(makePortfolio, zip(rebalanceIndexes(76,100), forestList))\n",
    "print(returnsListTemp)\n",
    "returnsList.extend(returnsListTemp)"
   ]
  },
  {
   "cell_type": "code",
   "execution_count": null,
   "metadata": {},
   "outputs": [],
   "source": [
    "indexes = []\n",
    "for i in rebalanceIndexes(100,124):\n",
    "    maxLength = 200\n",
    "    targetLength = 3\n",
    "    featureLength = 12\n",
    "    indexes.append(np.arange(-1 * (targetLength + featureLength) - i + maxLength * -1, -1 * (targetLength + featureLength) - i, targetLength))\n",
    "print(len(indexes))\n",
    "print(indexes)"
   ]
  },
  {
   "cell_type": "code",
   "execution_count": null,
   "metadata": {},
   "outputs": [],
   "source": [
    "pool = Pool(os.cpu_count())\n",
    "print(\"# of multiprocess cpus: \" + str(os.cpu_count()))\n",
    "forestList = pool.map(poolBuild, indexes)\n",
    "print(forestList)"
   ]
  },
  {
   "cell_type": "code",
   "execution_count": null,
   "metadata": {},
   "outputs": [],
   "source": [
    "pool = Pool(os.cpu_count())\n",
    "print(\"# of multiprocess cpus: \" + str(os.cpu_count()))\n",
    "returnsListTemp = pool.map(makePortfolio, zip(rebalanceIndexes(100,124), forestList))\n",
    "print(returnsListTemp)\n",
    "returnsList.extend(returnsListTemp)"
   ]
  },
  {
   "cell_type": "code",
   "execution_count": null,
   "metadata": {},
   "outputs": [],
   "source": [
    "indexes = []\n",
    "for i in rebalanceIndexes(124,148):\n",
    "    maxLength = 200\n",
    "    targetLength = 3\n",
    "    featureLength = 12\n",
    "    indexes.append(np.arange(-1 * (targetLength + featureLength) - i + maxLength * -1, -1 * (targetLength + featureLength) - i, targetLength))\n",
    "print(len(indexes))\n",
    "print(indexes)"
   ]
  },
  {
   "cell_type": "code",
   "execution_count": null,
   "metadata": {},
   "outputs": [],
   "source": [
    "pool = Pool(os.cpu_count())\n",
    "print(\"# of multiprocess cpus: \" + str(os.cpu_count()))\n",
    "forestList = pool.map(poolBuild, indexes)\n",
    "print(forestList)"
   ]
  },
  {
   "cell_type": "code",
   "execution_count": null,
   "metadata": {},
   "outputs": [],
   "source": [
    "pool = Pool(os.cpu_count())\n",
    "print(\"# of multiprocess cpus: \" + str(os.cpu_count()))\n",
    "returnsListTemp = pool.map(makePortfolio, zip(rebalanceIndexes(124,148), forestList))\n",
    "print(returnsListTemp)\n",
    "returnsList.extend(returnsListTemp)"
   ]
  },
  {
   "cell_type": "code",
   "execution_count": null,
   "metadata": {},
   "outputs": [],
   "source": [
    "indexes = []\n",
    "for i in rebalanceIndexes(148,172):\n",
    "    maxLength = 200\n",
    "    targetLength = 3\n",
    "    featureLength = 12\n",
    "    indexes.append(np.arange(-1 * (targetLength + featureLength) - i + maxLength * -1, -1 * (targetLength + featureLength) - i, targetLength))\n",
    "print(len(indexes))\n",
    "print(indexes)"
   ]
  },
  {
   "cell_type": "code",
   "execution_count": null,
   "metadata": {},
   "outputs": [],
   "source": [
    "pool = Pool(os.cpu_count())\n",
    "print(\"# of multiprocess cpus: \" + str(os.cpu_count()))\n",
    "forestList = pool.map(poolBuild, indexes)\n",
    "print(forestList)"
   ]
  },
  {
   "cell_type": "code",
   "execution_count": null,
   "metadata": {},
   "outputs": [],
   "source": [
    "pool = Pool(os.cpu_count())\n",
    "print(\"# of multiprocess cpus: \" + str(os.cpu_count()))\n",
    "returnsListTemp = pool.map(makePortfolio, zip(rebalanceIndexes(148,172), forestList))\n",
    "print(returnsListTemp)\n",
    "returnsList.extend(returnsListTemp)"
   ]
  },
  {
   "cell_type": "code",
   "execution_count": null,
   "metadata": {},
   "outputs": [],
   "source": [
    "indexes = []\n",
    "for i in rebalanceIndexes(172,196):\n",
    "    maxLength = 200\n",
    "    targetLength = 3\n",
    "    featureLength = 12\n",
    "    indexes.append(np.arange(-1 * (targetLength + featureLength) - i + maxLength * -1, -1 * (targetLength + featureLength) - i, targetLength))\n",
    "print(len(indexes))\n",
    "print(indexes)"
   ]
  },
  {
   "cell_type": "code",
   "execution_count": null,
   "metadata": {},
   "outputs": [],
   "source": [
    "pool = Pool(os.cpu_count())\n",
    "print(\"# of multiprocess cpus: \" + str(os.cpu_count()))\n",
    "forestList = pool.map(poolBuild, indexes)\n",
    "print(forestList)"
   ]
  },
  {
   "cell_type": "code",
   "execution_count": null,
   "metadata": {},
   "outputs": [],
   "source": [
    "pool = Pool(os.cpu_count())\n",
    "print(\"# of multiprocess cpus: \" + str(os.cpu_count()))\n",
    "returnsListTemp = pool.map(makePortfolio, zip(rebalanceIndexes(172,196), forestList))\n",
    "print(returnsListTemp)\n",
    "returnsList.extend(returnsListTemp)"
   ]
  },
  {
   "cell_type": "code",
   "execution_count": null,
   "metadata": {},
   "outputs": [],
   "source": [
    "print(returnsList)\n",
    "print(\"Mean: \" + str(np.mean(returnsList)))\n",
    "print(\"Std Dev: \" + str(np.std(returnsList)))\n",
    "print(\"Total Sum: \" + str(sum(returnsList)))\n",
    "plt.hist(returnsList, 8, facecolor='green', alpha=0.75)"
   ]
  },
  {
   "cell_type": "code",
   "execution_count": null,
   "metadata": {},
   "outputs": [],
   "source": []
  }
 ],
 "metadata": {
  "kernelspec": {
   "display_name": "Python 3",
   "language": "python",
   "name": "python3"
  },
  "language_info": {
   "codemirror_mode": {
    "name": "ipython",
    "version": 3
   },
   "file_extension": ".py",
   "mimetype": "text/x-python",
   "name": "python",
   "nbconvert_exporter": "python",
   "pygments_lexer": "ipython3",
   "version": "3.6.4"
  }
 },
 "nbformat": 4,
 "nbformat_minor": 2
}
